{
  "nbformat": 4,
  "nbformat_minor": 0,
  "metadata": {
    "colab": {
      "provenance": [],
      "gpuType": "T4"
    },
    "kernelspec": {
      "name": "python3",
      "display_name": "Python 3"
    },
    "language_info": {
      "name": "python"
    },
    "accelerator": "GPU"
  },
  "cells": [
    {
      "cell_type": "code",
      "execution_count": 1,
      "metadata": {
        "id": "yDl1Pqoi4BRr",
        "colab": {
          "base_uri": "https://localhost:8080/"
        },
        "outputId": "bad094f6-0aa2-49d4-e838-8008b76df5ab"
      },
      "outputs": [
        {
          "output_type": "stream",
          "name": "stdout",
          "text": [
            "\u001b[2K     \u001b[90m━━━━━━━━━━━━━━━━━━━━━━━━━━━━━━━━━━━━━━━━\u001b[0m \u001b[32m43.7/43.7 kB\u001b[0m \u001b[31m3.0 MB/s\u001b[0m eta \u001b[36m0:00:00\u001b[0m\n",
            "\u001b[2K   \u001b[90m━━━━━━━━━━━━━━━━━━━━━━━━━━━━━━━━━━━━━━━━\u001b[0m \u001b[32m9.5/9.5 MB\u001b[0m \u001b[31m87.4 MB/s\u001b[0m eta \u001b[36m0:00:00\u001b[0m\n",
            "\u001b[2K   \u001b[90m━━━━━━━━━━━━━━━━━━━━━━━━━━━━━━━━━━━━━━━━\u001b[0m \u001b[32m69.1/69.1 MB\u001b[0m \u001b[31m11.1 MB/s\u001b[0m eta \u001b[36m0:00:00\u001b[0m\n",
            "\u001b[2K   \u001b[90m━━━━━━━━━━━━━━━━━━━━━━━━━━━━━━━━━━━━━━━━\u001b[0m \u001b[32m3.6/3.6 MB\u001b[0m \u001b[31m90.7 MB/s\u001b[0m eta \u001b[36m0:00:00\u001b[0m\n",
            "\u001b[2K     \u001b[90m━━━━━━━━━━━━━━━━━━━━━━━━━━━━━━━━━━━━━━━━\u001b[0m \u001b[32m3.1/3.1 MB\u001b[0m \u001b[31m42.6 MB/s\u001b[0m eta \u001b[36m0:00:00\u001b[0m\n",
            "\u001b[?25h  Preparing metadata (setup.py) ... \u001b[?25l\u001b[?25hdone\n",
            "  Building wheel for flash_attn (setup.py) ... \u001b[?25l\u001b[?25hdone\n"
          ]
        }
      ],
      "source": [
        "!pip install -U -q transformers==4.44.2 bitsandbytes\n",
        "!pip install -U -q huggingface_hub\n",
        "!pip install -q flask flask-cors pyngrok flash_attn"
      ]
    },
    {
      "cell_type": "code",
      "source": [
        "import numpy as np\n",
        "import torch\n",
        "import torchvision.transforms as T\n",
        "from PIL import Image\n",
        "from torchvision.transforms.functional import InterpolationMode\n",
        "from transformers import AutoModel, AutoTokenizer\n",
        "import requests"
      ],
      "metadata": {
        "id": "xfBf7T8_Mp6M"
      },
      "execution_count": 2,
      "outputs": []
    },
    {
      "cell_type": "markdown",
      "source": [
        "# Thư viện xử lý ảnh đầu vào"
      ],
      "metadata": {
        "id": "ZiyjDNTANhT0"
      }
    },
    {
      "cell_type": "code",
      "source": [
        "# Thư viện xử lý ảnh đầu vào (từ source gốc HF)\n",
        "IMAGENET_MEAN = (0.485, 0.456, 0.406)\n",
        "IMAGENET_STD = (0.229, 0.224, 0.225)\n",
        "\n",
        "def build_transform(input_size):\n",
        "    MEAN, STD = IMAGENET_MEAN, IMAGENET_STD\n",
        "    transform = T.Compose([\n",
        "        T.Lambda(lambda img: img.convert('RGB') if img.mode != 'RGB' else img),\n",
        "        T.Resize((input_size, input_size), interpolation=InterpolationMode.BICUBIC),\n",
        "        T.ToTensor(),\n",
        "        T.Normalize(mean=MEAN, std=STD)\n",
        "    ])\n",
        "    return transform\n",
        "\n",
        "def find_closest_aspect_ratio(aspect_ratio, target_ratios, width, height, image_size):\n",
        "    best_ratio_diff = float('inf')\n",
        "    best_ratio = (1, 1)\n",
        "    area = width * height\n",
        "    for ratio in target_ratios:\n",
        "        target_aspect_ratio = ratio[0] / ratio[1]\n",
        "        ratio_diff = abs(aspect_ratio - target_aspect_ratio)\n",
        "        if ratio_diff < best_ratio_diff:\n",
        "            best_ratio_diff = ratio_diff\n",
        "            best_ratio = ratio\n",
        "        elif ratio_diff == best_ratio_diff:\n",
        "            if area > 0.5 * image_size * image_size * ratio[0] * ratio[1]:\n",
        "                best_ratio = ratio\n",
        "    return best_ratio\n",
        "\n",
        "def dynamic_preprocess(image, min_num=1, max_num=12, image_size=448, use_thumbnail=False):\n",
        "    orig_width, orig_height = image.size\n",
        "    aspect_ratio = orig_width / orig_height\n",
        "\n",
        "    # calculate the existing image aspect ratio\n",
        "    target_ratios = set(\n",
        "        (i, j) for n in range(min_num, max_num + 1) for i in range(1, n + 1) for j in range(1, n + 1) if\n",
        "        i * j <= max_num and i * j >= min_num)\n",
        "    target_ratios = sorted(target_ratios, key=lambda x: x[0] * x[1])\n",
        "\n",
        "    # find the closest aspect ratio to the target\n",
        "    target_aspect_ratio = find_closest_aspect_ratio(\n",
        "        aspect_ratio, target_ratios, orig_width, orig_height, image_size)\n",
        "\n",
        "    # calculate the target width and height\n",
        "    target_width = image_size * target_aspect_ratio[0]\n",
        "    target_height = image_size * target_aspect_ratio[1]\n",
        "    blocks = target_aspect_ratio[0] * target_aspect_ratio[1]\n",
        "\n",
        "    # resize the image\n",
        "    resized_img = image.resize((target_width, target_height))\n",
        "    processed_images = []\n",
        "    for i in range(blocks):\n",
        "        box = (\n",
        "            (i % (target_width // image_size)) * image_size,\n",
        "            (i // (target_width // image_size)) * image_size,\n",
        "            ((i % (target_width // image_size)) + 1) * image_size,\n",
        "            ((i // (target_width // image_size)) + 1) * image_size\n",
        "        )\n",
        "        # split the image\n",
        "        split_img = resized_img.crop(box)\n",
        "        processed_images.append(split_img)\n",
        "    assert len(processed_images) == blocks\n",
        "    if use_thumbnail and len(processed_images) != 1:\n",
        "        thumbnail_img = image.resize((image_size, image_size))\n",
        "        processed_images.append(thumbnail_img)\n",
        "    return processed_images\n",
        "\n",
        "def load_image(image_file, input_size=448, max_num=12):\n",
        "    image = Image.open(requests.get(image_file, stream=True).raw).convert('RGB')#Image.open(image_file).convert('RGB')\n",
        "    transform = build_transform(input_size=input_size)\n",
        "    images = dynamic_preprocess(image, image_size=input_size, use_thumbnail=True, max_num=max_num)\n",
        "    pixel_values = [transform(image) for image in images]\n",
        "    pixel_values = torch.stack(pixel_values)\n",
        "    return pixel_values\n"
      ],
      "metadata": {
        "id": "kCc4cD0vNub5"
      },
      "execution_count": 3,
      "outputs": []
    },
    {
      "cell_type": "markdown",
      "source": [
        "# Load model và test model trên Colab"
      ],
      "metadata": {
        "id": "0hk7Cv53N4C9"
      }
    },
    {
      "cell_type": "code",
      "source": [
        "model_name = \"5CD-AI/Vintern-1B-v2\"\n",
        "model = AutoModel.from_pretrained(\n",
        "    model_name,\n",
        "    torch_dtype=torch.bfloat16,\n",
        "    low_cpu_mem_usage=True,\n",
        "    trust_remote_code=True,\n",
        ").eval().cuda()\n",
        "\n",
        "tokenizer = AutoTokenizer.from_pretrained(model_name, trust_remote_code=True, use_fast=False)\n",
        "generation_config = dict(max_new_tokens= 512, do_sample=False, num_beams = 3, repetition_penalty=3.5)\n"
      ],
      "metadata": {
        "id": "RskLXo6mN7y0"
      },
      "execution_count": null,
      "outputs": []
    },
    {
      "cell_type": "code",
      "source": [
        "test_image = 'https://media-cdn-v2.laodong.vn/Storage/NewsPortal/2022/12/7/1124909/Karaoke-2.jpg'\n",
        "\n",
        "pixel_values = load_image(test_image, max_num=6).to(torch.bfloat16).cuda()\n",
        "\n",
        "prompt = '''<image>\\nNhận diện hoá đơn trong ảnh. Chỉ trả về phần liệt kê các mặt hàng hàng dưới dạng JSON:\n",
        "[\n",
        "  {\n",
        "    \"Tên món\": \"Tên món\",\n",
        "    \"Số lượng\": \"Số lượng\",\n",
        "    \"Đơn giá\": \"Đơn giá\",\n",
        "    \"Thành tiền\": \"Thành tiền\"\n",
        "  },\n",
        "]\n",
        "'''\n",
        "response = model.chat(tokenizer, pixel_values, prompt, generation_config)\n",
        "\n",
        "del pixel_values\n",
        "response"
      ],
      "metadata": {
        "colab": {
          "base_uri": "https://localhost:8080/",
          "height": 143
        },
        "id": "ApZDlm7jOXP3",
        "outputId": "f72c39e6-becb-4ed5-c2d8-8ebdfa6228fb"
      },
      "execution_count": 5,
      "outputs": [
        {
          "output_type": "stream",
          "name": "stderr",
          "text": [
            "Setting `pad_token_id` to `eos_token_id`:151645 for open-end generation.\n"
          ]
        },
        {
          "output_type": "execute_result",
          "data": {
            "text/plain": [
              "'[\\n  {\\n    \"Tên món\": \"Giờ VIP222\",\\n    \"Số lượng\": \"1h54\\'\",\\n    \"Đơn giá\": \"500 000\",\\n    \"Thành tiền\": \"950 000\"\\n  },\\n  {\\n    \"Tên món\": \"Suối\",\\n    \"Số lượng\": \"3\",\\n    \"Đơn giá\": \"12 000\",\\n    \"Thành tiền\": \"36 000\"\\n  },\\n  {\\n    \"Tên món\": \"Hoa quả thập cẩm\",\\n    \"Số lượng\": \"1\",\\n    \"Đơn giá\": \"140 000\",\\n    \"Thành tiền\": \"140 000\"\\n  },\\n  {\\n    \"Tên món\": \"Hoa quả Bưởi\",\\n    \"Số lượng\": \"2\",\\n    \"Đơn giá\": \"220 000\",\\n    \"Thành tiền\": \"440 000\"\\n  },\\n  {\\n    \"Tên món\": \"Hoa Quả Roi\",\\n    \"Số lượng\": \"1\",\\n    \"Đơn giá\": \"100 000\",\\n    \"Thành tiền\": \"100 000\"\\n  },\\n  {\\n    \"Tên món\": \"Ken ngoại\",\\n    \"Số lượng\": \"14\",\\n    \"Đơn giá\": \"60 000\",\\n    \"Thành tiền\": \"840 000\"\\n  }\\n]'"
            ],
            "application/vnd.google.colaboratory.intrinsic+json": {
              "type": "string"
            }
          },
          "metadata": {},
          "execution_count": 5
        }
      ]
    },
    {
      "cell_type": "markdown",
      "source": [
        "# Triển khai Flask và Expose ra API qua Ngrok"
      ],
      "metadata": {
        "id": "j6bKPw0sPZMo"
      }
    },
    {
      "cell_type": "code",
      "source": [
        "# Setup Ngrok Token\n",
        "from google.colab import userdata\n",
        "from flask import Flask, jsonify, request\n",
        "from flask_cors import CORS\n",
        "from pyngrok import ngrok\n",
        "\n",
        "authtoken = userdata.get(\"ngrok_token\")\n",
        "ngrok.set_auth_token(authtoken)"
      ],
      "metadata": {
        "colab": {
          "base_uri": "https://localhost:8080/"
        },
        "id": "vDX1-aaFPeVy",
        "outputId": "d97d062e-fd11-440d-edde-82d9cf90f83a"
      },
      "execution_count": 6,
      "outputs": [
        {
          "output_type": "stream",
          "name": "stdout",
          "text": []
        }
      ]
    },
    {
      "cell_type": "code",
      "source": [
        "# Viết code Flask để expose ra API\n",
        "\n",
        "# Initialize Flask app\n",
        "app = Flask(__name__)\n",
        "CORS(app)\n",
        "\n",
        "\n",
        "prompt = '''<image>\\nNhận diện hoá đơn trong ảnh. Chỉ trả về phần liệt kê các mặt hàng hàng dưới dạng CSV'''\n",
        "\n",
        "\n",
        "@app.route('/ocr', methods=['POST'])\n",
        "def index():\n",
        "    data = request.json\n",
        "    image_url = data.get('image_url', None)\n",
        "\n",
        "    response_message = ocr_by_llm(image_url, prompt)\n",
        "\n",
        "    return jsonify({\n",
        "        \"response_message\": response_message\n",
        "    })\n",
        "\n",
        "def ocr_by_llm(image_url, prompt):\n",
        "    # image = Image.open(requests.get(image_url, stream=True).raw)\n",
        "\n",
        "    pixel_values = load_image(image_url, max_num=6).to(torch.bfloat16).cuda()\n",
        "\n",
        "    response_message = model.chat(tokenizer, pixel_values, prompt, generation_config)\n",
        "\n",
        "    del pixel_values\n",
        "\n",
        "    print(response_message)\n",
        "    return response_message\n",
        "\n",
        "if __name__ == '__main__':\n",
        "\n",
        "    ngrok_url = ngrok.connect(5555)\n",
        "    print(ngrok_url)\n",
        "\n",
        "    app.run(port=5555)"
      ],
      "metadata": {
        "colab": {
          "base_uri": "https://localhost:8080/"
        },
        "id": "qDPQnflZQBXM",
        "outputId": "58a5455d-f4d7-4c5a-f0ec-f422013dab90"
      },
      "execution_count": 8,
      "outputs": [
        {
          "output_type": "stream",
          "name": "stdout",
          "text": [
            "NgrokTunnel: \"https://b5c4-34-83-96-106.ngrok-free.app\" -> \"http://localhost:5555\"\n",
            " * Serving Flask app '__main__'\n",
            " * Debug mode: off\n"
          ]
        },
        {
          "output_type": "stream",
          "name": "stderr",
          "text": [
            "INFO:werkzeug:\u001b[31m\u001b[1mWARNING: This is a development server. Do not use it in a production deployment. Use a production WSGI server instead.\u001b[0m\n",
            " * Running on http://127.0.0.1:5555\n",
            "INFO:werkzeug:\u001b[33mPress CTRL+C to quit\u001b[0m\n",
            "INFO:werkzeug:127.0.0.1 - - [25/Dec/2024 14:39:21] \"\u001b[33mGET / HTTP/1.1\u001b[0m\" 404 -\n",
            "INFO:werkzeug:127.0.0.1 - - [25/Dec/2024 14:39:22] \"\u001b[33mGET /favicon.ico HTTP/1.1\u001b[0m\" 404 -\n",
            "Setting `pad_token_id` to `eos_token_id`:151645 for open-end generation.\n",
            "INFO:werkzeug:127.0.0.1 - - [25/Dec/2024 14:41:20] \"POST /ocr HTTP/1.1\" 200 -\n"
          ]
        },
        {
          "output_type": "stream",
          "name": "stdout",
          "text": [
            "| TT | Tên món | SL | Đơn giá | Thành tiền |\n",
            "|---|---|---|---|---|\n",
            "| 1 | Giờ hát | 4h11' | 200 000 | 836 000 |\n",
            "| 2 | Oanh | 1,50 | 200 000 | 300 000 |\n",
            "| 3 | Xuân | 2,83 | 200 000 | 566 000 |\n",
            "| 4 | Linh | 4,10 | 200 000 | 820 000 |\n",
            "| 5 | Hoa quả đĩa | 1,00 | 150 000 | 150 000 |\n",
            "| 6 | Thuốc Thăng Long | 1,00 | 20 000 | 20 000 |\n",
            "| 7 | Minh | 2,33 | 200 000 | 466 000 |\n",
            "| 8 | Bia | 23,00 | 20 000 | 460 000 |\n",
            "| 9 | Trà xanh Ô độ | 1,00 | 23 000 | 23 000 |\n",
            "| Thành tiền: | 3 641 000 | 3 641 000 |\n",
            "| Tiền phí dịch vụ | 5% | 182 050 |\n",
            "| Tổng cộng: | 3 823 050 | 3 823 050 |\n",
            "| Tiền Khách Dưa: | 0 | 0 |\n",
            "| Tiền Trả Khách: | 0 | 0 |\n",
            "| Tiền mặt (VND): | 3 823 050 | 3 823 050 |\n"
          ]
        },
        {
          "output_type": "stream",
          "name": "stderr",
          "text": [
            "Setting `pad_token_id` to `eos_token_id`:151645 for open-end generation.\n",
            "INFO:werkzeug:127.0.0.1 - - [25/Dec/2024 14:42:05] \"POST /ocr HTTP/1.1\" 200 -\n"
          ]
        },
        {
          "output_type": "stream",
          "name": "stdout",
          "text": [
            "| TT | Tên món | SL | Đơn giá | Giảm giá | T.Tiền |\n",
            "|---|---|---|---|---|---|\n",
            "| 1 | Giờ VIP222 | 1h54' | 500 000 | 0% | 950 000 |\n",
            "| 2 | Suối | 1 | 12 000 | 0% | 36 000 |\n",
            "| 3 | Hoa quả thập cẩm | 1 | 140 000 | 0% | 140 000 |\n",
            "| 4 | Hoa quả Bưởi | 2 | 220 000 | 0% | 440 000 |\n",
            "| 5 | Hoa Quả Roi | 1 | 100 000 | 0% | 100 000 |\n",
            "| 6 | Ken ngoại | 14 | 60 000 | 0% | 840 000 |\n",
            "| Thành tiền: | | | | | 2 506 000 |\n",
            "| Tiền Thanh Toán: | | | | | 2 506 000 |\n"
          ]
        }
      ]
    }
  ]
}